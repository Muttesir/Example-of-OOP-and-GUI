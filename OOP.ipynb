{
 "cells": [
  {
   "cell_type": "markdown",
   "metadata": {},
   "source": [
    "**Demo: GroceryItem**"
   ]
  },
  {
   "cell_type": "code",
   "execution_count": 22,
   "metadata": {},
   "outputs": [
    {
     "name": "stdout",
     "output_type": "stream",
     "text": [
      "This banana weight 120 gram and costs 0.2 pounds\n",
      "This aplle weight 130 gram and costs 0.4 pounds\n",
      "This orange weight 160 gram and costs 0.25 pounds\n",
      "This pear weight 150 gram and costs 0.45 pounds\n"
     ]
    }
   ],
   "source": [
    "class grocery_item:\n",
    "    name = \"\"\n",
    "    weight = 0\n",
    "    price = 0.0\n",
    "    def __init__(self, name, weight, price):\n",
    "        self.name = name\n",
    "        self.weight = weight\n",
    "        self.price = price\n",
    "    \n",
    "    \n",
    "    def print_details(self):\n",
    "        print('This',self.name, 'weight', self.weight,'gram and costs', self.price,'pounds')\n",
    "   \n",
    "     \n",
    "\n",
    "\n",
    "banana = grocery_item(\"banana\", 120, 0.20)    \n",
    "apple = grocery_item(\"aplle\", 130, 0.40) \n",
    "orange = grocery_item(\"orange\", 160, 0.25) \n",
    "pear = grocery_item(\"pear\", 150, 0.45) \n",
    "\n",
    "banana.print_details()\n",
    "apple.print_details()\n",
    "orange.print_details()\n",
    "pear.print_details()"
   ]
  },
  {
   "cell_type": "code",
   "execution_count": 7,
   "metadata": {},
   "outputs": [
    {
     "name": "stdout",
     "output_type": "stream",
     "text": [
      "Bananas are 1.0 pounds per kilogram\n",
      "Apple are 0.8 pounds per kilogram\n",
      "Orange are 1.56 pounds per kilogram\n",
      "Pear are 0.75 pounds per kilogram\n"
     ]
    }
   ],
   "source": [
    "class grocery_item:\n",
    "    name = \"\"\n",
    "    weight = 0\n",
    "    price = 0.0\n",
    "    def __init__(self, name, weight, price):\n",
    "        self.name = name\n",
    "        self.weight = weight\n",
    "        self.price = price\n",
    "    def get_price_per_kg(self):\n",
    "        return (self.price / self.weight) * 1000\n",
    "\n",
    "banana = grocery_item(\"banana\", 200, 0.20)    \n",
    "apple = grocery_item(\"aplle\", 500, 0.40) \n",
    "orange = grocery_item(\"orange\", 160, 0.25) \n",
    "pear = grocery_item(\"pear\", 600, 0.45)\n",
    "\n",
    "print(\"Bananas are\",round(banana.get_price_per_kg(),2), \\\n",
    "\"pounds per kilogram\")\n",
    "print(\"Apple are\",round(apple.get_price_per_kg(),2), \\\n",
    "\"pounds per kilogram\")\n",
    "print(\"Orange are\",round(orange.get_price_per_kg(),2), \\\n",
    "\"pounds per kilogram\")\n",
    "print(\"Pear are\",round(pear.get_price_per_kg(),2), \\\n",
    "\"pounds per kilogram\")\n"
   ]
  },
  {
   "cell_type": "markdown",
   "metadata": {},
   "source": []
  },
  {
   "cell_type": "code",
   "execution_count": 23,
   "metadata": {},
   "outputs": [
    {
     "name": "stdout",
     "output_type": "stream",
     "text": [
      "This is: Lenova operation system Windows random acces memory 8 gb\n",
      "This is: Dell operation system Linux random acces memory 32 gb\n"
     ]
    }
   ],
   "source": [
    "class computer():\n",
    "    make = \"\"\n",
    "    os = ''\n",
    "    ram = 0\n",
    "    def __init__(self, make, os, ram):\n",
    "        self.make = make\n",
    "        self.os = os\n",
    "        self.ram = ram\n",
    "\n",
    "    def print_details(self):\n",
    "        print('This is:',self.make, 'operation system', self.os, 'random acces memory', self.ram,'gb')\n",
    "\n",
    "          \n",
    "computer_lenova=computer('Lenova', 'Windows', 8)\n",
    "computer_dell=computer('Dell', 'Linux', 32)\n",
    "\n",
    "computer_lenova.print_details()\n",
    "computer_dell.print_details()      "
   ]
  },
  {
   "cell_type": "code",
   "execution_count": null,
   "metadata": {},
   "outputs": [],
   "source": []
  }
 ],
 "metadata": {
  "kernelspec": {
   "display_name": "Python 3",
   "language": "python",
   "name": "python3"
  },
  "language_info": {
   "codemirror_mode": {
    "name": "ipython",
    "version": 3
   },
   "file_extension": ".py",
   "mimetype": "text/x-python",
   "name": "python",
   "nbconvert_exporter": "python",
   "pygments_lexer": "ipython3",
   "version": "3.7.6"
  }
 },
 "nbformat": 4,
 "nbformat_minor": 4
}
