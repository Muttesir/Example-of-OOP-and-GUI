{
 "cells": [
  {
   "cell_type": "code",
   "execution_count": 3,
   "metadata": {},
   "outputs": [
    {
     "name": "stdout",
     "output_type": "stream",
     "text": [
      "101\n",
      "102\n",
      "103\n",
      "104\n",
      "105\n"
     ]
    }
   ],
   "source": [
    "import tkinter as tk\n",
    "from tkinter import *\n",
    "window=tk.Tk()\n",
    "window.title('my script')\n",
    "\n",
    "Label(window, text='First Name').grid(row=0)\n",
    "Label(window, text='Last Name').grid(row=1)\n",
    "\n",
    "e1 = Entry(window)\n",
    "e2 = Entry(window)\n",
    "\n",
    "e1.grid(row=0, column=1)\n",
    "e2.grid(row=1, column=1)\n",
    "\n",
    "\n",
    "\n",
    "v = tk.IntVar()\n",
    "v.set(1)  # initializing the choice, i.e. Python\n",
    "\n",
    "languages = [(\"Python\", 101),\n",
    "             (\"Perl\", 102),\n",
    "             (\"Java\", 103),\n",
    "             (\"C++\", 104),\n",
    "             (\"C\", 105)]\n",
    "\n",
    "def ShowChoice():\n",
    "    print(v.get())\n",
    "\n",
    "tk.Label(window, text=\"\"\"Choose your favourite programming language:\"\"\" ).grid(row=2)\n",
    "         #justify = tk.LEFT,\n",
    "         #padx = 20\n",
    "        \n",
    "\n",
    "for language, val in languages:\n",
    "    tk.Radiobutton(window, \n",
    "                   text=language,\n",
    "                   #padx = 20, \n",
    "                   variable=v, \n",
    "                   command=ShowChoice,\n",
    "                   value=val).grid( )\n",
    "\n",
    "\n",
    "\n",
    "\n",
    "window.mainloop()"
   ]
  },
  {
   "cell_type": "code",
   "execution_count": null,
   "metadata": {},
   "outputs": [],
   "source": [
    "\n"
   ]
  }
 ],
 "metadata": {
  "kernelspec": {
   "display_name": "Python 3",
   "language": "python",
   "name": "python3"
  },
  "language_info": {
   "codemirror_mode": {
    "name": "ipython",
    "version": 3
   },
   "file_extension": ".py",
   "mimetype": "text/x-python",
   "name": "python",
   "nbconvert_exporter": "python",
   "pygments_lexer": "ipython3",
   "version": "3.7.6"
  }
 },
 "nbformat": 4,
 "nbformat_minor": 4
}
